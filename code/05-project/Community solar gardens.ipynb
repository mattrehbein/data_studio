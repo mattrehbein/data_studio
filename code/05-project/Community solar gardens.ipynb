{
 "cells": [
  {
   "cell_type": "code",
   "execution_count": 2,
   "metadata": {},
   "outputs": [],
   "source": [
    "import pandas as pd"
   ]
  },
  {
   "cell_type": "code",
   "execution_count": 3,
   "metadata": {},
   "outputs": [],
   "source": [
    "df = pd.read_csv(\"NREL_Community_Solar_Project_List/Project List-Table 1.csv\")"
   ]
  },
  {
   "cell_type": "code",
   "execution_count": 4,
   "metadata": {},
   "outputs": [
    {
     "data": {
      "text/html": [
       "<div>\n",
       "<style scoped>\n",
       "    .dataframe tbody tr th:only-of-type {\n",
       "        vertical-align: middle;\n",
       "    }\n",
       "\n",
       "    .dataframe tbody tr th {\n",
       "        vertical-align: top;\n",
       "    }\n",
       "\n",
       "    .dataframe thead th {\n",
       "        text-align: right;\n",
       "    }\n",
       "</style>\n",
       "<table border=\"1\" class=\"dataframe\">\n",
       "  <thead>\n",
       "    <tr style=\"text-align: right;\">\n",
       "      <th></th>\n",
       "      <th>Project Name</th>\n",
       "      <th>City</th>\n",
       "      <th>State</th>\n",
       "      <th>Utility</th>\n",
       "      <th>System Size (kW)</th>\n",
       "      <th>Year of Interconnection</th>\n",
       "      <th>Co-located Projects</th>\n",
       "      <th>Ciy Lat</th>\n",
       "      <th>City Long</th>\n",
       "    </tr>\n",
       "  </thead>\n",
       "  <tbody>\n",
       "    <tr>\n",
       "      <th>0</th>\n",
       "      <td>Ouachita Headquarters Community Array</td>\n",
       "      <td>Camden</td>\n",
       "      <td>AR</td>\n",
       "      <td>Ouachita Electric Cooperative</td>\n",
       "      <td>93.0</td>\n",
       "      <td>2016.0</td>\n",
       "      <td>NaN</td>\n",
       "      <td>33.584558</td>\n",
       "      <td>-92.834329</td>\n",
       "    </tr>\n",
       "    <tr>\n",
       "      <th>1</th>\n",
       "      <td>Holly Springs Community Solar</td>\n",
       "      <td>Holly Springs</td>\n",
       "      <td>AR</td>\n",
       "      <td>Ouachita Electric Cooperative</td>\n",
       "      <td>1000.0</td>\n",
       "      <td>2017.0</td>\n",
       "      <td>NaN</td>\n",
       "      <td>33.815383</td>\n",
       "      <td>-92.709605</td>\n",
       "    </tr>\n",
       "    <tr>\n",
       "      <th>2</th>\n",
       "      <td>Bearskin Community Solar Center</td>\n",
       "      <td>Scott</td>\n",
       "      <td>AR</td>\n",
       "      <td>Entergy</td>\n",
       "      <td>150.0</td>\n",
       "      <td>2015.0</td>\n",
       "      <td>NaN</td>\n",
       "      <td>34.696500</td>\n",
       "      <td>-92.096300</td>\n",
       "    </tr>\n",
       "    <tr>\n",
       "      <th>3</th>\n",
       "      <td>One Solar program</td>\n",
       "      <td>Springdale</td>\n",
       "      <td>AR</td>\n",
       "      <td>Ozarks Electric Cooperative Corp.</td>\n",
       "      <td>1000.0</td>\n",
       "      <td>2016.0</td>\n",
       "      <td>NaN</td>\n",
       "      <td>36.186744</td>\n",
       "      <td>-94.128814</td>\n",
       "    </tr>\n",
       "    <tr>\n",
       "      <th>4</th>\n",
       "      <td>Bright Tucson Community Solar Program</td>\n",
       "      <td>Florence</td>\n",
       "      <td>AZ</td>\n",
       "      <td>Tucson Electric Power</td>\n",
       "      <td>22300.0</td>\n",
       "      <td>2011.0</td>\n",
       "      <td>NaN</td>\n",
       "      <td>32.220000</td>\n",
       "      <td>-110.960000</td>\n",
       "    </tr>\n",
       "  </tbody>\n",
       "</table>\n",
       "</div>"
      ],
      "text/plain": [
       "                            Project Name           City State  \\\n",
       "0  Ouachita Headquarters Community Array         Camden    AR   \n",
       "1          Holly Springs Community Solar  Holly Springs    AR   \n",
       "2        Bearskin Community Solar Center          Scott    AR   \n",
       "3                      One Solar program     Springdale    AR   \n",
       "4  Bright Tucson Community Solar Program       Florence    AZ   \n",
       "\n",
       "                             Utility  System Size (kW)  \\\n",
       "0      Ouachita Electric Cooperative              93.0   \n",
       "1      Ouachita Electric Cooperative            1000.0   \n",
       "2                            Entergy             150.0   \n",
       "3  Ozarks Electric Cooperative Corp.            1000.0   \n",
       "4              Tucson Electric Power           22300.0   \n",
       "\n",
       "   Year of Interconnection Co-located Projects    Ciy Lat   City Long  \n",
       "0                   2016.0                 NaN  33.584558  -92.834329  \n",
       "1                   2017.0                 NaN  33.815383  -92.709605  \n",
       "2                   2015.0                 NaN  34.696500  -92.096300  \n",
       "3                   2016.0                 NaN  36.186744  -94.128814  \n",
       "4                   2011.0                 NaN  32.220000 -110.960000  "
      ]
     },
     "execution_count": 4,
     "metadata": {},
     "output_type": "execute_result"
    }
   ],
   "source": [
    "df.head()"
   ]
  },
  {
   "cell_type": "code",
   "execution_count": 5,
   "metadata": {},
   "outputs": [
    {
     "data": {
      "text/plain": [
       "(543, 9)"
      ]
     },
     "execution_count": 5,
     "metadata": {},
     "output_type": "execute_result"
    }
   ],
   "source": [
    "df.shape"
   ]
  },
  {
   "cell_type": "code",
   "execution_count": 6,
   "metadata": {},
   "outputs": [
    {
     "data": {
      "text/plain": [
       "MA    121\n",
       "MN     97\n",
       "CO     79\n",
       "VT     25\n",
       "WA     25\n",
       "WI     20\n",
       "NY     19\n",
       "NC     15\n",
       "ME     13\n",
       "DC     12\n",
       "SC     10\n",
       "IA     10\n",
       "TX      9\n",
       "OR      9\n",
       "GA      7\n",
       "MI      7\n",
       "AZ      6\n",
       "NE      6\n",
       "FL      6\n",
       "OK      5\n",
       "MT      5\n",
       "MO      4\n",
       "AR      4\n",
       "TN      4\n",
       "KS      3\n",
       "KY      3\n",
       "UT      3\n",
       "IN      3\n",
       "IL      2\n",
       "NV      2\n",
       "DE      1\n",
       "ND      1\n",
       "VA      1\n",
       "PA      1\n",
       "NM      1\n",
       "MD      1\n",
       "OH      1\n",
       "ID      1\n",
       "NJ      1\n",
       "Name: State, dtype: int64"
      ]
     },
     "execution_count": 6,
     "metadata": {},
     "output_type": "execute_result"
    }
   ],
   "source": [
    "df.State.value_counts()"
   ]
  },
  {
   "cell_type": "code",
   "execution_count": 7,
   "metadata": {},
   "outputs": [
    {
     "data": {
      "text/plain": [
       "Index(['Project Name', 'City', 'State', 'Utility', 'System Size (kW)',\n",
       "       'Year of Interconnection', 'Co-located Projects', 'Ciy Lat',\n",
       "       'City Long'],\n",
       "      dtype='object')"
      ]
     },
     "execution_count": 7,
     "metadata": {},
     "output_type": "execute_result"
    }
   ],
   "source": [
    "df.columns"
   ]
  },
  {
   "cell_type": "code",
   "execution_count": null,
   "metadata": {},
   "outputs": [],
   "source": []
  },
  {
   "cell_type": "code",
   "execution_count": null,
   "metadata": {},
   "outputs": [],
   "source": []
  }
 ],
 "metadata": {
  "kernelspec": {
   "display_name": "Python 3",
   "language": "python",
   "name": "python3"
  },
  "language_info": {
   "codemirror_mode": {
    "name": "ipython",
    "version": 3
   },
   "file_extension": ".py",
   "mimetype": "text/x-python",
   "name": "python",
   "nbconvert_exporter": "python",
   "pygments_lexer": "ipython3",
   "version": "3.6.5"
  }
 },
 "nbformat": 4,
 "nbformat_minor": 2
}
