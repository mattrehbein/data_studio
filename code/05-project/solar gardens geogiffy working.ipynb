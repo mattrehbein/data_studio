{
 "cells": [
  {
   "cell_type": "code",
   "execution_count": 1,
   "metadata": {},
   "outputs": [],
   "source": [
    "import pandas as pd"
   ]
  },
  {
   "cell_type": "code",
   "execution_count": 2,
   "metadata": {},
   "outputs": [],
   "source": [
    "df = pd.read_csv(\"NREL_Community_Solar_Project_List/Project List-Table 1.csv\")"
   ]
  },
  {
   "cell_type": "code",
   "execution_count": 3,
   "metadata": {},
   "outputs": [
    {
     "data": {
      "text/plain": [
       "Index(['Project Name', 'City', 'State', 'Utility', 'System Size (kW)',\n",
       "       'Year of Interconnection', 'Co-located Projects', 'Ciy Lat',\n",
       "       'City Long'],\n",
       "      dtype='object')"
      ]
     },
     "execution_count": 3,
     "metadata": {},
     "output_type": "execute_result"
    }
   ],
   "source": [
    "df.columns"
   ]
  },
  {
   "cell_type": "code",
   "execution_count": 14,
   "metadata": {},
   "outputs": [
    {
     "data": {
      "text/plain": [
       "2017.0    151\n",
       "2016.0    136\n",
       "2015.0     90\n",
       "2014.0     43\n",
       "2013.0     21\n",
       "2011.0     16\n",
       "2018.0     12\n",
       "2012.0     10\n",
       "2008.0      3\n",
       "2009.0      2\n",
       "2007.0      1\n",
       "2010.0      1\n",
       "2006.0      1\n",
       "2000.0      1\n",
       "Name: Year of Interconnection, dtype: int64"
      ]
     },
     "execution_count": 14,
     "metadata": {},
     "output_type": "execute_result"
    }
   ],
   "source": [
    "df['Year of Interconnection'].value_counts()\n",
    "# df.shape"
   ]
  },
  {
   "cell_type": "code",
   "execution_count": 24,
   "metadata": {},
   "outputs": [
    {
     "data": {
      "text/plain": [
       "(43, 9)"
      ]
     },
     "execution_count": 24,
     "metadata": {},
     "output_type": "execute_result"
    }
   ],
   "source": [
    "sol_14 = df[df['Year of Interconnection'] == 2014]\n",
    "sol_14.to_csv(\"sol_14.csv\", index=False)\n",
    "sol_14.shape"
   ]
  },
  {
   "cell_type": "code",
   "execution_count": 25,
   "metadata": {},
   "outputs": [
    {
     "data": {
      "text/plain": [
       "(90, 9)"
      ]
     },
     "execution_count": 25,
     "metadata": {},
     "output_type": "execute_result"
    }
   ],
   "source": [
    "sol_15 = df[df['Year of Interconnection']== 2015]\n",
    "sol_15.to_csv(\"sol_15.csv\", index=False)\n",
    "sol_15.shape"
   ]
  },
  {
   "cell_type": "code",
   "execution_count": 26,
   "metadata": {},
   "outputs": [
    {
     "data": {
      "text/plain": [
       "(136, 9)"
      ]
     },
     "execution_count": 26,
     "metadata": {},
     "output_type": "execute_result"
    }
   ],
   "source": [
    "sol_16 = df[df['Year of Interconnection'] == 2016]\n",
    "sol_16.to_csv(\"sol_16.csv\", index=False)\n",
    "sol_16.shape"
   ]
  },
  {
   "cell_type": "code",
   "execution_count": 27,
   "metadata": {},
   "outputs": [
    {
     "data": {
      "text/plain": [
       "(151, 9)"
      ]
     },
     "execution_count": 27,
     "metadata": {},
     "output_type": "execute_result"
    }
   ],
   "source": [
    "sol_17 = df[df['Year of Interconnection'] == 2017]\n",
    "sol_17.to_csv(\"sol_17.csv\", index=False)\n",
    "sol_17.shape"
   ]
  },
  {
   "cell_type": "code",
   "execution_count": 28,
   "metadata": {},
   "outputs": [
    {
     "data": {
      "text/plain": [
       "(12, 9)"
      ]
     },
     "execution_count": 28,
     "metadata": {},
     "output_type": "execute_result"
    }
   ],
   "source": [
    "sol_18 = df[df['Year of Interconnection'] == 2018]\n",
    "sol_18.to_csv(\"sol_18.csv\", index=False)\n",
    "sol_18.shape"
   ]
  },
  {
   "cell_type": "code",
   "execution_count": 29,
   "metadata": {},
   "outputs": [
    {
     "data": {
      "text/plain": [
       "(21, 9)"
      ]
     },
     "execution_count": 29,
     "metadata": {},
     "output_type": "execute_result"
    }
   ],
   "source": [
    "sol_13 = df[df['Year of Interconnection'] == 2013]\n",
    "sol_13.to_csv(\"sol_13.csv\", index=False)\n",
    "sol_13.shape"
   ]
  },
  {
   "cell_type": "code",
   "execution_count": 30,
   "metadata": {},
   "outputs": [
    {
     "data": {
      "text/plain": [
       "(10, 9)"
      ]
     },
     "execution_count": 30,
     "metadata": {},
     "output_type": "execute_result"
    }
   ],
   "source": [
    "sol_12 = df[df['Year of Interconnection'] == 2012]\n",
    "sol_12.to_csv(\"sol_12.csv\", index=False)\n",
    "sol_12.shape"
   ]
  },
  {
   "cell_type": "markdown",
   "metadata": {},
   "source": [
    "# Now starting back at beg, jackass -- 2000-2011"
   ]
  },
  {
   "cell_type": "code",
   "execution_count": 31,
   "metadata": {},
   "outputs": [
    {
     "data": {
      "text/plain": [
       "(1, 9)"
      ]
     },
     "execution_count": 31,
     "metadata": {},
     "output_type": "execute_result"
    }
   ],
   "source": [
    "sol_00 = df[df['Year of Interconnection'] == 2000]\n",
    "sol_00.to_csv(\"sol_00.csv\", index=False)\n",
    "sol_00.shape"
   ]
  },
  {
   "cell_type": "code",
   "execution_count": 32,
   "metadata": {},
   "outputs": [
    {
     "data": {
      "text/plain": [
       "(1, 9)"
      ]
     },
     "execution_count": 32,
     "metadata": {},
     "output_type": "execute_result"
    }
   ],
   "source": [
    "sol_06 = df[df['Year of Interconnection'] == 2006]\n",
    "sol_06.to_csv(\"sol_06.csv\", index=False)\n",
    "sol_06.shape"
   ]
  },
  {
   "cell_type": "code",
   "execution_count": 33,
   "metadata": {},
   "outputs": [
    {
     "data": {
      "text/plain": [
       "(1, 9)"
      ]
     },
     "execution_count": 33,
     "metadata": {},
     "output_type": "execute_result"
    }
   ],
   "source": [
    "sol_07 = df[df['Year of Interconnection'] == 2007]\n",
    "sol_07.to_csv(\"sol_07.csv\", index=False)\n",
    "sol_07.shape"
   ]
  },
  {
   "cell_type": "code",
   "execution_count": 34,
   "metadata": {},
   "outputs": [
    {
     "data": {
      "text/plain": [
       "(3, 9)"
      ]
     },
     "execution_count": 34,
     "metadata": {},
     "output_type": "execute_result"
    }
   ],
   "source": [
    "sol_08 = df[df['Year of Interconnection'] == 2008]\n",
    "sol_08.to_csv(\"sol_08.csv\", index=False)\n",
    "sol_08.shape"
   ]
  },
  {
   "cell_type": "code",
   "execution_count": 35,
   "metadata": {},
   "outputs": [
    {
     "data": {
      "text/plain": [
       "(2, 9)"
      ]
     },
     "execution_count": 35,
     "metadata": {},
     "output_type": "execute_result"
    }
   ],
   "source": [
    "sol_09 = df[df['Year of Interconnection'] == 2009]\n",
    "sol_09.to_csv(\"sol_09.csv\", index=False)\n",
    "sol_09.shape"
   ]
  },
  {
   "cell_type": "code",
   "execution_count": 36,
   "metadata": {},
   "outputs": [
    {
     "data": {
      "text/plain": [
       "(1, 9)"
      ]
     },
     "execution_count": 36,
     "metadata": {},
     "output_type": "execute_result"
    }
   ],
   "source": [
    "sol_10 = df[df['Year of Interconnection'] == 2010]\n",
    "sol_10.to_csv(\"sol_10.csv\", index=False)\n",
    "sol_10.shape"
   ]
  },
  {
   "cell_type": "code",
   "execution_count": 37,
   "metadata": {},
   "outputs": [
    {
     "data": {
      "text/plain": [
       "(16, 9)"
      ]
     },
     "execution_count": 37,
     "metadata": {},
     "output_type": "execute_result"
    }
   ],
   "source": [
    "sol_11 = df[df['Year of Interconnection'] == 2011]\n",
    "sol_11.to_csv(\"sol_11.csv\", index=False)\n",
    "sol_11.shape"
   ]
  },
  {
   "cell_type": "code",
   "execution_count": null,
   "metadata": {},
   "outputs": [],
   "source": []
  }
 ],
 "metadata": {
  "kernelspec": {
   "display_name": "Python 3",
   "language": "python",
   "name": "python3"
  },
  "language_info": {
   "codemirror_mode": {
    "name": "ipython",
    "version": 3
   },
   "file_extension": ".py",
   "mimetype": "text/x-python",
   "name": "python",
   "nbconvert_exporter": "python",
   "pygments_lexer": "ipython3",
   "version": "3.6.5"
  }
 },
 "nbformat": 4,
 "nbformat_minor": 2
}
